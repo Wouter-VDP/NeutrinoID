{
 "cells": [
  {
   "cell_type": "markdown",
   "metadata": {},
   "source": [
    "# Neutrino ID loader"
   ]
  },
  {
   "cell_type": "markdown",
   "metadata": {},
   "source": [
    "### Imports"
   ]
  },
  {
   "cell_type": "code",
   "execution_count": 20,
   "metadata": {},
   "outputs": [
    {
     "name": "stdout",
     "output_type": "stream",
     "text": [
      "The nb_black extension is already loaded. To reload it, use:\n",
      "  %reload_ext nb_black\n"
     ]
    },
    {
     "data": {
      "application/javascript": [
       "\n",
       "            setTimeout(function() {\n",
       "                var nbb_cell_id = 20;\n",
       "                var nbb_formatted_code = \"%matplotlib inline\\n%load_ext nb_black\";\n",
       "                var nbb_cells = Jupyter.notebook.get_cells();\n",
       "                for (var i = 0; i < nbb_cells.length; ++i) {\n",
       "                    if (nbb_cells[i].input_prompt_number == nbb_cell_id) {\n",
       "                        nbb_cells[i].set_text(nbb_formatted_code);\n",
       "                        break;\n",
       "                    }\n",
       "                }\n",
       "            }, 500);\n",
       "            "
      ],
      "text/plain": [
       "<IPython.core.display.Javascript object>"
      ]
     },
     "metadata": {},
     "output_type": "display_data"
    }
   ],
   "source": [
    "%matplotlib inline\n",
    "%load_ext nb_black"
   ]
  },
  {
   "cell_type": "code",
   "execution_count": 21,
   "metadata": {},
   "outputs": [
    {
     "data": {
      "application/javascript": [
       "\n",
       "            setTimeout(function() {\n",
       "                var nbb_cell_id = 21;\n",
       "                var nbb_formatted_code = \"import uproot\\nimport pickle\\nimport pandas as pd\\nimport numpy as np\\nimport helpers.helpfunction as helper\\nimport gc\";\n",
       "                var nbb_cells = Jupyter.notebook.get_cells();\n",
       "                for (var i = 0; i < nbb_cells.length; ++i) {\n",
       "                    if (nbb_cells[i].input_prompt_number == nbb_cell_id) {\n",
       "                        nbb_cells[i].set_text(nbb_formatted_code);\n",
       "                        break;\n",
       "                    }\n",
       "                }\n",
       "            }, 500);\n",
       "            "
      ],
      "text/plain": [
       "<IPython.core.display.Javascript object>"
      ]
     },
     "metadata": {},
     "output_type": "display_data"
    }
   ],
   "source": [
    "import uproot\n",
    "import pickle\n",
    "import pandas as pd\n",
    "import numpy as np\n",
    "import helpers.helpfunction as helper\n",
    "import gc"
   ]
  },
  {
   "cell_type": "markdown",
   "metadata": {},
   "source": [
    "### Constants"
   ]
  },
  {
   "cell_type": "markdown",
   "metadata": {},
   "source": [
    "Data Run1: \n",
    "- data_bnb_run1_C1_high_lifetime (for now, small subset of 5e19) \n",
    "    - POT: 2.57e19 (old, 1.922e19)\n",
    "    - E1DCNT_wcut: 5711101 (old, 4271472)\n",
    "- data_extbnb_run3_G1_high_lifetime\n",
    "    - EXT: 6200046\n",
    "    \n",
    "Data Run2:\n",
    "- data_bnb_run2_D2\n",
    "    - POT: 1.593e+20\n",
    "    - E1DCNT_wcut: 38186979\n",
    "- data_extbnb_run2_D2\n",
    "    - EXT: x\n",
    "    \n",
    "Data Run3:\n",
    "- data_bnb_run3_G1_high_lifetime\n",
    "    - POT: x\n",
    "    - E1DCNT_wcut: x\n",
    "- data_extbnb_run3_G1_high_lifetime\n",
    "    - EXT: x"
   ]
  },
  {
   "cell_type": "code",
   "execution_count": 22,
   "metadata": {},
   "outputs": [
    {
     "data": {
      "application/javascript": [
       "\n",
       "            setTimeout(function() {\n",
       "                var nbb_cell_id = 22;\n",
       "                var nbb_formatted_code = \"pot = [1.922e19, 1.593e20, 0]\\nen1dcnt = [4271472, 38186979, 0]\\next = [6200046, 14220894, 0]\";\n",
       "                var nbb_cells = Jupyter.notebook.get_cells();\n",
       "                for (var i = 0; i < nbb_cells.length; ++i) {\n",
       "                    if (nbb_cells[i].input_prompt_number == nbb_cell_id) {\n",
       "                        nbb_cells[i].set_text(nbb_formatted_code);\n",
       "                        break;\n",
       "                    }\n",
       "                }\n",
       "            }, 500);\n",
       "            "
      ],
      "text/plain": [
       "<IPython.core.display.Javascript object>"
      ]
     },
     "metadata": {},
     "output_type": "display_data"
    }
   ],
   "source": [
    "pot = [2.57e19, 1.593e20, 0]\n",
    "en1dcnt = [5711101, 38186979, 0]\n",
    "ext = [6200046, 14220894, 0]"
   ]
  },
  {
   "cell_type": "code",
   "execution_count": 23,
   "metadata": {},
   "outputs": [
    {
     "data": {
      "application/javascript": [
       "\n",
       "            setTimeout(function() {\n",
       "                var nbb_cell_id = 23;\n",
       "                var nbb_formatted_code = \"path = \\\"./input/Jan2020/pickled/\\\"\\n\\nmin_lepton_kine = 0.02\\nmin_e = min_lepton_kine + 0.000511\\nmin_mu = min_lepton_kine + 0.105658\\npot_per_event = {\\n    \\\"nu\\\": 1.201e21 / 957702,\\n    \\\"nue\\\": 5.12e22 / 85774,\\n    \\\"dirt\\\": 3.08e20 / 98679,\\n}\\n\\nrun = 1\\ndata_samples = [\\\"on\\\", \\\"off\\\"]\\nmc_samples = [\\\"nue\\\", \\\"nu\\\", \\\"dirt\\\"]\";\n",
       "                var nbb_cells = Jupyter.notebook.get_cells();\n",
       "                for (var i = 0; i < nbb_cells.length; ++i) {\n",
       "                    if (nbb_cells[i].input_prompt_number == nbb_cell_id) {\n",
       "                        nbb_cells[i].set_text(nbb_formatted_code);\n",
       "                        break;\n",
       "                    }\n",
       "                }\n",
       "            }, 500);\n",
       "            "
      ],
      "text/plain": [
       "<IPython.core.display.Javascript object>"
      ]
     },
     "metadata": {},
     "output_type": "display_data"
    }
   ],
   "source": [
    "path = \"./input/Jan2020/pickled/\"\n",
    "\n",
    "min_lepton_kine = 0.02\n",
    "min_e = min_lepton_kine + 0.000511\n",
    "min_mu = min_lepton_kine + 0.105658\n",
    "pot_per_event = {\n",
    "    \"nu\": 1.201e21 / 957702,\n",
    "    \"nue\": 5.12e22 / 85774,\n",
    "    \"dirt\": 3.08e20 / 98679,\n",
    "}\n",
    "\n",
    "run = 1\n",
    "data_samples = [\"on\", \"off\"]\n",
    "mc_samples = [\"nue\", \"nu\", \"dirt\"]"
   ]
  },
  {
   "cell_type": "markdown",
   "metadata": {},
   "source": [
    "### Load Samples"
   ]
  },
  {
   "cell_type": "markdown",
   "metadata": {},
   "source": [
    "#### Load MC"
   ]
  },
  {
   "cell_type": "code",
   "execution_count": 24,
   "metadata": {},
   "outputs": [
    {
     "name": "stdout",
     "output_type": "stream",
     "text": [
      "nue num_events: 58420 pot: 3.4871919229603376e+22\n",
      "\n",
      "--- Event Tree ---\n",
      "dict_keys(['run', 'subRun', 'event', 'evt_time_sec', 'evt_time_nsec', 'nFlashes', 'nFlashesInBeamWindow', 'hasBeamFlash', 'nSlices', 'nSlicesAfterPrecuts', 'foundATargetSlice', 'targetSliceMethod', 'bestCosmicMatch', 'cosmicMatchHypothesis', 'bestCosmicMatchRatio', 'nuMode', 'nuX', 'nuW', 'nuPt', 'nuTheta', 'nuCCNC', 'nuEnergy', 'leptonEnergy', 'nuInteractionTime', 'nuPdgCode', 'nuVertexX', 'nuVertexY', 'nuVertexZ'])\n",
      "\n",
      "--- Slice Tree ---\n",
      "dict_keys(['sliceId', 'run', 'subRun', 'event', 'evt_time_sec', 'evt_time_nsec', 'hasDeposition', 'totalCharge', 'centerX', 'centerY', 'centerZ', 'minCRTdist', 'CRTtime', 'CRTplane', 'CRTtracklength', 'CRTnumtracks', 'deltaY', 'deltaZ', 'deltaYSigma', 'deltaZSigma', 'chargeToLightRatio', 'xclVariable', 'passesPreCuts', 'flashMatchScore', 'totalPEHypothesis', 'peHypothesisSpectrum', 'isTaggedAsTarget', 'targetMethod', 'isConsideredByFlashId', 'topologicalScore', 'hasBestTopologicalScore', 'hasBestFlashMatchScore', 'nHits', 'maxDeltaLLMCS', 'lengthDeltaLLMCS', 'ct_result_michel_plane0', 'ct_result_michel_plane1', 'ct_result_michel_plane2', 'ct_result_bragg_plane0', 'ct_result_bragg_plane1', 'ct_result_bragg_plane2', 'dqds_michelalg_percdiff_plane0', 'dqds_michelalg_percdiff_plane1', 'dqds_michelalg_percdiff_plane2', 'dqds_braggalg_percdiff_plane0', 'dqds_braggalg_percdiff_plane1', 'dqds_braggalg_percdiff_plane2', 'bragg_local_lin_plane0', 'bragg_local_lin_plane1', 'bragg_local_lin_plane2', 'n_michel_hits_plane0', 'n_michel_hits_plane1', 'n_michel_hits_plane2', 'min_lin_braggalgonly_plane0', 'min_lin_braggalgonly_plane1', 'min_lin_braggalgonly_plane2', 'vtx_in_FV', 'flashZCenter', 'flashTime', 'z_center', 'y_up', 'y_dn', 'x_up', 'x_dn', 'z_up', 'z_dn', 'flash_timeanode_u', 'flash_timeanode_d', 'flash_timecathode_u', 'flash_timecathode_d', 'purity', 'completeness', 'isMostComplete', 'nuMode', 'nuCCNC', 'nuEnergy', 'leptonEnergy', 'nuPdgCode', 'nuVertexX', 'nuVertexY', 'nuVertexZ'])\n",
      "\n",
      "--- Flash Tree ---\n",
      "dict_keys(['run', 'subRun', 'event', 'evt_time_sec', 'evt_time_nsec', 'time', 'centerY', 'centerZ', 'widthY', 'widthZ', 'totalPE', 'peSpectrum', 'inBeamWindow', 'isBrightestInWindow', 'isBeamFlash'])\n",
      "\n",
      "--- Shower Tree ---\n",
      "dict_keys(['_shr_x', '_xtimeoffset', '_xsceoffset', '_shr_y', '_shr_z', '_shr_dedx_pl0_v', '_shr_dedx_pl1_v', '_shr_dedx_pl2_v', '_shr_e_v', '_shr_dedx_v', '_shr_px', '_shr_py', '_shr_pz', '_completeness', '_purity', '_mc_shr_pdg', '_mc_shr_e', '_mc_shr_x', '_mc_shr_y', '_mc_shr_z', '_mc_shr_px', '_mc_shr_py', '_mc_shr_pz'])\n",
      "\n",
      "\n",
      "\n",
      "nu num_events: 58876 pot: 7.383306707096779e+19\n",
      "dirt num_events: 36930 pot: 1.1526707810172377e+20\n",
      "CPU times: user 46.3 s, sys: 128 ms, total: 46.5 s\n",
      "Wall time: 46.3 s\n"
     ]
    },
    {
     "data": {
      "application/javascript": [
       "\n",
       "            setTimeout(function() {\n",
       "                var nbb_cell_id = 24;\n",
       "                var nbb_formatted_code = \"%%time\\nfile_dict = {}\\nfirst = True\\n\\nfor sample in mc_samples:\\n    file = uproot.open(\\\"input/Jan2020/run{}/{}_run{}.root\\\".format(run, sample, run))\\n    file_neutrinoid = file[\\\"pandora\\\"]\\n    file_dict[sample] = {}\\n\\n    file_dict[sample][\\\"num_events\\\"] = file_neutrinoid[\\\"events\\\"].numentries\\n    file_dict[sample][\\\"pot\\\"] = file_dict[sample][\\\"num_events\\\"] * pot_per_event[sample]\\n    print(\\n        sample,\\n        \\\"num_events:\\\",\\n        file_dict[sample][\\\"num_events\\\"],\\n        \\\"pot:\\\",\\n        file_dict[sample][\\\"pot\\\"],\\n    )\\n    file_dict[sample][\\\"events\\\"] = file_neutrinoid[\\\"events\\\"].arrays(namedecode=\\\"utf-8\\\")\\n    file_dict[sample][\\\"slices\\\"] = file_neutrinoid[\\\"slices\\\"].arrays(namedecode=\\\"utf-8\\\")\\n    file_dict[sample][\\\"flashes\\\"] = file_neutrinoid[\\\"flashes\\\"].arrays(namedecode=\\\"utf-8\\\")\\n    file_dict[sample][\\\"showers\\\"] = file[\\\"shrreco3d/_rcshr_tree\\\"].arrays(\\n        namedecode=\\\"utf-8\\\"\\n    )\\n    file_dict[sample][\\\"metadata\\\"] = file_neutrinoid[\\\"metadata\\\"].arrays(entrystop=1,namedecode=\\\"utf-8\\\", flatten=True)\\n    if first:\\n        print(\\\"\\\\n--- Event Tree ---\\\")\\n        print(file_dict[sample][\\\"events\\\"].keys())\\n        print(\\\"\\\\n--- Slice Tree ---\\\")\\n        print(file_dict[sample][\\\"slices\\\"].keys())\\n        print(\\\"\\\\n--- Flash Tree ---\\\")\\n        print(file_dict[sample][\\\"flashes\\\"].keys())\\n        print(\\\"\\\\n--- Shower Tree ---\\\")\\n        print(file_dict[sample][\\\"showers\\\"].keys())\\n        print(\\\"\\\\n\\\\n\\\")\\n        first = False\\n\\n    # Add the hashes:\\n    df_to_hash_slice_id = file_neutrinoid[\\\"events\\\"].pandas.df([\\\"nuVertex?\\\", \\\"*Energy\\\"])\\n    slice_id_nu_hash = helper.eventHash(df_to_hash_slice_id)\\n    file_dict[sample][\\\"events\\\"][\\\"hash\\\"] = slice_id_nu_hash\";\n",
       "                var nbb_cells = Jupyter.notebook.get_cells();\n",
       "                for (var i = 0; i < nbb_cells.length; ++i) {\n",
       "                    if (nbb_cells[i].input_prompt_number == nbb_cell_id) {\n",
       "                        nbb_cells[i].set_text(nbb_formatted_code);\n",
       "                        break;\n",
       "                    }\n",
       "                }\n",
       "            }, 500);\n",
       "            "
      ],
      "text/plain": [
       "<IPython.core.display.Javascript object>"
      ]
     },
     "metadata": {},
     "output_type": "display_data"
    }
   ],
   "source": [
    "%%time\n",
    "file_dict = {}\n",
    "first = True\n",
    "\n",
    "for sample in mc_samples:\n",
    "    file = uproot.open(\"input/Jan2020/run{}/{}_run{}.root\".format(run, sample, run))\n",
    "    file_neutrinoid = file[\"pandora\"]\n",
    "    file_dict[sample] = {}\n",
    "\n",
    "    file_dict[sample][\"num_events\"] = file_neutrinoid[\"events\"].numentries\n",
    "    file_dict[sample][\"pot\"] = file_dict[sample][\"num_events\"] * pot_per_event[sample]\n",
    "    print(\n",
    "        sample,\n",
    "        \"num_events:\",\n",
    "        file_dict[sample][\"num_events\"],\n",
    "        \"pot:\",\n",
    "        file_dict[sample][\"pot\"],\n",
    "    )\n",
    "    file_dict[sample][\"events\"] = file_neutrinoid[\"events\"].arrays(namedecode=\"utf-8\")\n",
    "    file_dict[sample][\"slices\"] = file_neutrinoid[\"slices\"].arrays(namedecode=\"utf-8\")\n",
    "    file_dict[sample][\"flashes\"] = file_neutrinoid[\"flashes\"].arrays(namedecode=\"utf-8\")\n",
    "    file_dict[sample][\"showers\"] = file[\"shrreco3d/_rcshr_tree\"].arrays(\n",
    "        namedecode=\"utf-8\"\n",
    "    )\n",
    "    file_dict[sample][\"metadata\"] = file_neutrinoid[\"metadata\"].arrays(entrystop=1,namedecode=\"utf-8\", flatten=True)\n",
    "    if first:\n",
    "        print(\"\\n--- Event Tree ---\")\n",
    "        print(file_dict[sample][\"events\"].keys())\n",
    "        print(\"\\n--- Slice Tree ---\")\n",
    "        print(file_dict[sample][\"slices\"].keys())\n",
    "        print(\"\\n--- Flash Tree ---\")\n",
    "        print(file_dict[sample][\"flashes\"].keys())\n",
    "        print(\"\\n--- Shower Tree ---\")\n",
    "        print(file_dict[sample][\"showers\"].keys())\n",
    "        print(\"\\n\\n\")\n",
    "        first = False\n",
    "\n",
    "    # Add the hashes:\n",
    "    df_to_hash_slice_id = file_neutrinoid[\"events\"].pandas.df([\"nuVertex?\", \"*Energy\"])\n",
    "    slice_id_nu_hash = helper.eventHash(df_to_hash_slice_id)\n",
    "    file_dict[sample][\"events\"][\"hash\"] = slice_id_nu_hash"
   ]
  },
  {
   "cell_type": "code",
   "execution_count": 33,
   "metadata": {},
   "outputs": [
    {
     "name": "stdout",
     "output_type": "stream",
     "text": [
      "count    56013.000000\n",
      "mean         1.173108\n",
      "std          0.917618\n",
      "min          0.559345\n",
      "25%          1.000000\n",
      "50%          1.000000\n",
      "75%          1.225310\n",
      "max         89.603714\n",
      "dtype: float64\n",
      "nue\n",
      "count    53228.000000\n",
      "mean         1.150156\n",
      "std          0.581137\n",
      "min          0.238485\n",
      "25%          1.000000\n",
      "50%          1.000000\n",
      "75%          1.218523\n",
      "max         54.544491\n",
      "dtype: float64\n",
      "nu\n",
      "count    18557.000000\n",
      "mean         1.106060\n",
      "std          0.351910\n",
      "min          0.421535\n",
      "25%          1.000000\n",
      "50%          1.000000\n",
      "75%          1.203281\n",
      "max         37.972496\n",
      "dtype: float64\n",
      "dirt\n",
      "CPU times: user 20.4 s, sys: 825 ms, total: 21.3 s\n",
      "Wall time: 21.1 s\n"
     ]
    },
    {
     "data": {
      "text/plain": [
       "0"
      ]
     },
     "execution_count": 33,
     "metadata": {},
     "output_type": "execute_result"
    },
    {
     "data": {
      "application/javascript": [
       "\n",
       "            setTimeout(function() {\n",
       "                var nbb_cell_id = 33;\n",
       "                var nbb_formatted_code = \"%%time\\n# Collect the newest weights for the MC samples:\\nfile = pickle.load(\\n    open(\\n        \\\"/home/wouter/Documents/Jupyter/searchingfornues/input/16Jan/run1_slimmed.pckl\\\",\\n        \\\"rb\\\",\\n    )\\n)\\n\\nfor sample in mc_samples:\\n    keys = [\\\"true_nu_vtx_x\\\", \\\"true_nu_vtx_y\\\", \\\"true_nu_vtx_z\\\", \\\"nu_e\\\", \\\"lep_e\\\"]\\n    this_weight_dict = {}\\n    for key in keys:\\n        this_weight_dict[key] = file[sample][\\\"mc\\\"][key]\\n    weight_hash = helper.eventHash(pd.DataFrame(this_weight_dict))\\n    weigths = file[sample][\\\"mc\\\"][\\\"weightSplineTimesTune\\\"]\\n    mapper = dict(zip(weight_hash, weigths))\\n    \\n    new_weights = file_dict[sample][\\\"events\\\"][\\\"hash\\\"].map(mapper)\\n    print(new_weights.describe())\\n    print(sample)\\n    file_dict[sample][\\\"events\\\"][\\\"weight\\\"] = (\\n        file_dict[sample][\\\"events\\\"][\\\"hash\\\"].map(mapper).fillna(1)\\n    ).values\\n    \\n    file_dict[sample][\\\"flashes\\\"][\\\"weight\\\"] = np.repeat(\\n        file_dict[sample][\\\"events\\\"][\\\"weight\\\"], file_dict[sample][\\\"events\\\"][\\\"nFlashes\\\"]\\n    )\\n    file_dict[sample][\\\"slices\\\"][\\\"weight\\\"] = np.repeat(\\n        file_dict[sample][\\\"events\\\"][\\\"weight\\\"], file_dict[sample][\\\"events\\\"]['nSlices']\\n    )\\n    \\ndel file\\ngc.collect()\";\n",
       "                var nbb_cells = Jupyter.notebook.get_cells();\n",
       "                for (var i = 0; i < nbb_cells.length; ++i) {\n",
       "                    if (nbb_cells[i].input_prompt_number == nbb_cell_id) {\n",
       "                        nbb_cells[i].set_text(nbb_formatted_code);\n",
       "                        break;\n",
       "                    }\n",
       "                }\n",
       "            }, 500);\n",
       "            "
      ],
      "text/plain": [
       "<IPython.core.display.Javascript object>"
      ]
     },
     "metadata": {},
     "output_type": "display_data"
    }
   ],
   "source": [
    "%%time\n",
    "# Collect the newest weights for the MC samples:\n",
    "file = pickle.load(\n",
    "    open(\n",
    "        \"/home/wouter/Documents/Jupyter/searchingfornues/input/16Jan/run1_slimmed.pckl\",\n",
    "        \"rb\",\n",
    "    )\n",
    ")\n",
    "\n",
    "for sample in mc_samples:\n",
    "    keys = [\"true_nu_vtx_x\", \"true_nu_vtx_y\", \"true_nu_vtx_z\", \"nu_e\", \"lep_e\"]\n",
    "    this_weight_dict = {}\n",
    "    for key in keys:\n",
    "        this_weight_dict[key] = file[sample][\"mc\"][key]\n",
    "    weight_hash = helper.eventHash(pd.DataFrame(this_weight_dict))\n",
    "    weigths = file[sample][\"mc\"][\"weightSplineTimesTune\"]\n",
    "    mapper = dict(zip(weight_hash, weigths))\n",
    "    \n",
    "    new_weights = file_dict[sample][\"events\"][\"hash\"].map(mapper)\n",
    "    print(new_weights.describe())\n",
    "    print(sample)\n",
    "    file_dict[sample][\"events\"][\"weight\"] = (\n",
    "        file_dict[sample][\"events\"][\"hash\"].map(mapper).fillna(1)\n",
    "    ).values\n",
    "    \n",
    "    file_dict[sample][\"flashes\"][\"weight\"] = np.repeat(\n",
    "        file_dict[sample][\"events\"][\"weight\"], file_dict[sample][\"events\"][\"nFlashes\"]\n",
    "    )\n",
    "    file_dict[sample][\"slices\"][\"weight\"] = np.repeat(\n",
    "        file_dict[sample][\"events\"][\"weight\"], file_dict[sample][\"events\"]['nSlices']\n",
    "    )\n",
    "    \n",
    "del file\n",
    "gc.collect()"
   ]
  },
  {
   "cell_type": "code",
   "execution_count": null,
   "metadata": {},
   "outputs": [],
   "source": [
    "file_dict['nu'][\"events\"][\"hash\"]"
   ]
  },
  {
   "cell_type": "code",
   "execution_count": 26,
   "metadata": {},
   "outputs": [
    {
     "name": "stdout",
     "output_type": "stream",
     "text": [
      "CPU times: user 27.3 ms, sys: 0 ns, total: 27.3 ms\n",
      "Wall time: 26.5 ms\n"
     ]
    },
    {
     "data": {
      "application/javascript": [
       "\n",
       "            setTimeout(function() {\n",
       "                var nbb_cell_id = 26;\n",
       "                var nbb_formatted_code = \"%%time\\n# Define signal categories:\\nfor sample in mc_samples:\\n    x = file_dict[sample][\\\"events\\\"][\\\"nuVertexX\\\"]\\n    y = file_dict[sample][\\\"events\\\"][\\\"nuVertexY\\\"]\\n    z = file_dict[sample][\\\"events\\\"][\\\"nuVertexZ\\\"]\\n    file_dict[sample][\\\"events\\\"]['true_fidvol'] = helper.is_fid(x, y, z)\\n    \\n    \\n\\n    file_dict[sample][\\\"events\\\"][\\\"nueccinc\\\"] = (\\n        (file_dict[sample][\\\"events\\\"][\\\"leptonEnergy\\\"] > min_e)\\n        & (abs(file_dict[sample][\\\"events\\\"][\\\"nuPdgCode\\\"]) == 12)\\n        & (file_dict[sample][\\\"events\\\"][\\\"nuCCNC\\\"]==0)\\n        & file_dict[sample][\\\"events\\\"]['true_fidvol']\\n    )\\n    file_dict[sample][\\\"events\\\"][\\\"numuccinc\\\"] = (\\n        (file_dict[sample][\\\"events\\\"][\\\"leptonEnergy\\\"] > min_mu)\\n        & (abs(file_dict[sample][\\\"events\\\"][\\\"nuPdgCode\\\"]) == 14)\\n        & (file_dict[sample][\\\"events\\\"][\\\"nuCCNC\\\"]==0)\\n        & file_dict[sample][\\\"events\\\"]['true_fidvol']\\n    )\\n    file_dict[sample][\\\"flashes\\\"][\\\"nueccinc\\\"] = np.repeat(\\n        file_dict[sample][\\\"events\\\"][\\\"nueccinc\\\"], file_dict[sample][\\\"events\\\"][\\\"nFlashes\\\"]\\n    )\\n    file_dict[sample][\\\"slices\\\"][\\\"nueccinc\\\"] = np.repeat(\\n        file_dict[sample][\\\"events\\\"][\\\"nueccinc\\\"], file_dict[sample][\\\"events\\\"]['nSlices']\\n    )\\n    file_dict[sample][\\\"flashes\\\"][\\\"numuccinc\\\"] = np.repeat(\\n        file_dict[sample][\\\"events\\\"][\\\"numuccinc\\\"], file_dict[sample][\\\"events\\\"][\\\"nFlashes\\\"]\\n    )\\n    file_dict[sample][\\\"slices\\\"][\\\"numuccinc\\\"] = np.repeat(\\n        file_dict[sample][\\\"events\\\"][\\\"numuccinc\\\"], file_dict[sample][\\\"events\\\"]['nSlices']\\n    )\\n    file_dict[sample][\\\"flashes\\\"][\\\"true_fidvol\\\"] = np.repeat(\\n        file_dict[sample][\\\"events\\\"][\\\"true_fidvol\\\"], file_dict[sample][\\\"events\\\"]['nFlashes']\\n    )\\n    file_dict[sample][\\\"slices\\\"][\\\"true_fidvol\\\"] = np.repeat(\\n        file_dict[sample][\\\"events\\\"][\\\"true_fidvol\\\"], file_dict[sample][\\\"events\\\"]['nSlices']\\n    )\";\n",
       "                var nbb_cells = Jupyter.notebook.get_cells();\n",
       "                for (var i = 0; i < nbb_cells.length; ++i) {\n",
       "                    if (nbb_cells[i].input_prompt_number == nbb_cell_id) {\n",
       "                        nbb_cells[i].set_text(nbb_formatted_code);\n",
       "                        break;\n",
       "                    }\n",
       "                }\n",
       "            }, 500);\n",
       "            "
      ],
      "text/plain": [
       "<IPython.core.display.Javascript object>"
      ]
     },
     "metadata": {},
     "output_type": "display_data"
    }
   ],
   "source": [
    "%%time\n",
    "# Define signal categories:\n",
    "for sample in mc_samples:\n",
    "    x = file_dict[sample][\"events\"][\"nuVertexX\"]\n",
    "    y = file_dict[sample][\"events\"][\"nuVertexY\"]\n",
    "    z = file_dict[sample][\"events\"][\"nuVertexZ\"]\n",
    "    file_dict[sample][\"events\"]['true_fidvol'] = helper.is_fid(x, y, z)\n",
    "    \n",
    "    \n",
    "\n",
    "    file_dict[sample][\"events\"][\"nueccinc\"] = (\n",
    "        (file_dict[sample][\"events\"][\"leptonEnergy\"] > min_e)\n",
    "        & (abs(file_dict[sample][\"events\"][\"nuPdgCode\"]) == 12)\n",
    "        & (file_dict[sample][\"events\"][\"nuCCNC\"]==0)\n",
    "        & file_dict[sample][\"events\"]['true_fidvol']\n",
    "    )\n",
    "    file_dict[sample][\"events\"][\"numuccinc\"] = (\n",
    "        (file_dict[sample][\"events\"][\"leptonEnergy\"] > min_mu)\n",
    "        & (abs(file_dict[sample][\"events\"][\"nuPdgCode\"]) == 14)\n",
    "        & (file_dict[sample][\"events\"][\"nuCCNC\"]==0)\n",
    "        & file_dict[sample][\"events\"]['true_fidvol']\n",
    "    )\n",
    "    file_dict[sample][\"flashes\"][\"nueccinc\"] = np.repeat(\n",
    "        file_dict[sample][\"events\"][\"nueccinc\"], file_dict[sample][\"events\"][\"nFlashes\"]\n",
    "    )\n",
    "    file_dict[sample][\"slices\"][\"nueccinc\"] = np.repeat(\n",
    "        file_dict[sample][\"events\"][\"nueccinc\"], file_dict[sample][\"events\"]['nSlices']\n",
    "    )\n",
    "    file_dict[sample][\"flashes\"][\"numuccinc\"] = np.repeat(\n",
    "        file_dict[sample][\"events\"][\"numuccinc\"], file_dict[sample][\"events\"][\"nFlashes\"]\n",
    "    )\n",
    "    file_dict[sample][\"slices\"][\"numuccinc\"] = np.repeat(\n",
    "        file_dict[sample][\"events\"][\"numuccinc\"], file_dict[sample][\"events\"]['nSlices']\n",
    "    )\n",
    "    file_dict[sample][\"flashes\"][\"true_fidvol\"] = np.repeat(\n",
    "        file_dict[sample][\"events\"][\"true_fidvol\"], file_dict[sample][\"events\"]['nFlashes']\n",
    "    )\n",
    "    file_dict[sample][\"slices\"][\"true_fidvol\"] = np.repeat(\n",
    "        file_dict[sample][\"events\"][\"true_fidvol\"], file_dict[sample][\"events\"]['nSlices']\n",
    "    )"
   ]
  },
  {
   "cell_type": "code",
   "execution_count": 27,
   "metadata": {},
   "outputs": [
    {
     "data": {
      "application/javascript": [
       "\n",
       "            setTimeout(function() {\n",
       "                var nbb_cell_id = 27;\n",
       "                var nbb_formatted_code = \"out_file = open(path + \\\"mc_run{}.pckl\\\".format(run), \\\"wb\\\")\\npickle.dump(file_dict, out_file)\\nout_file.close()\";\n",
       "                var nbb_cells = Jupyter.notebook.get_cells();\n",
       "                for (var i = 0; i < nbb_cells.length; ++i) {\n",
       "                    if (nbb_cells[i].input_prompt_number == nbb_cell_id) {\n",
       "                        nbb_cells[i].set_text(nbb_formatted_code);\n",
       "                        break;\n",
       "                    }\n",
       "                }\n",
       "            }, 500);\n",
       "            "
      ],
      "text/plain": [
       "<IPython.core.display.Javascript object>"
      ]
     },
     "metadata": {},
     "output_type": "display_data"
    }
   ],
   "source": [
    "out_file = open(path + \"mc_run{}.pckl\".format(run), \"wb\")\n",
    "pickle.dump(file_dict, out_file)\n",
    "out_file.close()"
   ]
  },
  {
   "cell_type": "markdown",
   "metadata": {},
   "source": [
    "####  Load Data"
   ]
  },
  {
   "cell_type": "code",
   "execution_count": 13,
   "metadata": {},
   "outputs": [
    {
     "data": {
      "application/javascript": [
       "\n",
       "            setTimeout(function() {\n",
       "                var nbb_cell_id = 13;\n",
       "                var nbb_formatted_code = \"run = 1\";\n",
       "                var nbb_cells = Jupyter.notebook.get_cells();\n",
       "                for (var i = 0; i < nbb_cells.length; ++i) {\n",
       "                    if (nbb_cells[i].input_prompt_number == nbb_cell_id) {\n",
       "                        nbb_cells[i].set_text(nbb_formatted_code);\n",
       "                        break;\n",
       "                    }\n",
       "                }\n",
       "            }, 500);\n",
       "            "
      ],
      "text/plain": [
       "<IPython.core.display.Javascript object>"
      ]
     },
     "metadata": {},
     "output_type": "display_data"
    }
   ],
   "source": [
    "run = 1"
   ]
  },
  {
   "cell_type": "code",
   "execution_count": 17,
   "metadata": {},
   "outputs": [
    {
     "name": "stdout",
     "output_type": "stream",
     "text": [
      "on num_events: 77433\n",
      "\n",
      "--- Event Tree ---\n",
      "dict_keys(['run', 'subRun', 'event', 'evt_time_sec', 'evt_time_nsec', 'nFlashes', 'nFlashesInBeamWindow', 'hasBeamFlash', 'nSlices', 'nSlicesAfterPrecuts', 'foundATargetSlice', 'targetSliceMethod', 'bestCosmicMatch', 'cosmicMatchHypothesis', 'bestCosmicMatchRatio'])\n",
      "\n",
      "--- Slice Tree ---\n",
      "dict_keys(['sliceId', 'run', 'subRun', 'event', 'evt_time_sec', 'evt_time_nsec', 'hasDeposition', 'totalCharge', 'centerX', 'centerY', 'centerZ', 'minCRTdist', 'CRTtime', 'CRTplane', 'CRTtracklength', 'CRTnumtracks', 'deltaY', 'deltaZ', 'deltaYSigma', 'deltaZSigma', 'chargeToLightRatio', 'xclVariable', 'passesPreCuts', 'flashMatchScore', 'totalPEHypothesis', 'peHypothesisSpectrum', 'isTaggedAsTarget', 'targetMethod', 'isConsideredByFlashId', 'topologicalScore', 'hasBestTopologicalScore', 'hasBestFlashMatchScore', 'nHits', 'maxDeltaLLMCS', 'lengthDeltaLLMCS', 'ct_result_michel_plane0', 'ct_result_michel_plane1', 'ct_result_michel_plane2', 'ct_result_bragg_plane0', 'ct_result_bragg_plane1', 'ct_result_bragg_plane2', 'dqds_michelalg_percdiff_plane0', 'dqds_michelalg_percdiff_plane1', 'dqds_michelalg_percdiff_plane2', 'dqds_braggalg_percdiff_plane0', 'dqds_braggalg_percdiff_plane1', 'dqds_braggalg_percdiff_plane2', 'bragg_local_lin_plane0', 'bragg_local_lin_plane1', 'bragg_local_lin_plane2', 'n_michel_hits_plane0', 'n_michel_hits_plane1', 'n_michel_hits_plane2', 'min_lin_braggalgonly_plane0', 'min_lin_braggalgonly_plane1', 'min_lin_braggalgonly_plane2', 'vtx_in_FV', 'flashZCenter', 'flashTime', 'z_center', 'y_up', 'y_dn', 'x_up', 'x_dn', 'z_up', 'z_dn', 'flash_timeanode_u', 'flash_timeanode_d', 'flash_timecathode_u', 'flash_timecathode_d'])\n",
      "\n",
      "--- Flash Tree ---\n",
      "dict_keys(['run', 'subRun', 'event', 'evt_time_sec', 'evt_time_nsec', 'time', 'centerY', 'centerZ', 'widthY', 'widthZ', 'totalPE', 'peSpectrum', 'inBeamWindow', 'isBrightestInWindow', 'isBeamFlash'])\n",
      "\n",
      "--- Shower Tree ---\n",
      "dict_keys(['_shr_x', '_xtimeoffset', '_xsceoffset', '_shr_y', '_shr_z', '_shr_dedx_pl0_v', '_shr_dedx_pl1_v', '_shr_dedx_pl2_v', '_shr_e_v', '_shr_dedx_v', '_shr_px', '_shr_py', '_shr_pz', '_completeness', '_purity', '_mc_shr_pdg', '_mc_shr_e', '_mc_shr_x', '_mc_shr_y', '_mc_shr_z', '_mc_shr_px', '_mc_shr_py', '_mc_shr_pz'])\n",
      "\n",
      "\n",
      "\n",
      "off num_events: 80135\n",
      "CPU times: user 1min 29s, sys: 377 ms, total: 1min 30s\n",
      "Wall time: 1min 30s\n"
     ]
    },
    {
     "data": {
      "application/javascript": [
       "\n",
       "            setTimeout(function() {\n",
       "                var nbb_cell_id = 17;\n",
       "                var nbb_formatted_code = \"%%time\\nfile_dict = {}\\nfirst = True\\n\\nfor sample in data_samples:\\n    file = uproot.open(\\\"input/Jan2020/run{}/{}_run{}.root\\\".format(run, sample, run))\\n    file_neutrinoid = file[\\\"pandora\\\"]\\n    file_dict[sample] = {}\\n\\n    file_dict[sample][\\\"num_events\\\"] = file_neutrinoid[\\\"events\\\"].numentries\\n    print(\\n        sample,\\n        \\\"num_events:\\\",\\n        file_dict[sample][\\\"num_events\\\"]\\n    )\\n    file_dict[sample][\\\"events\\\"] = file_neutrinoid[\\\"events\\\"].arrays(namedecode=\\\"utf-8\\\")\\n    file_dict[sample][\\\"slices\\\"] = file_neutrinoid[\\\"slices\\\"].arrays(namedecode=\\\"utf-8\\\")\\n    file_dict[sample][\\\"flashes\\\"] = file_neutrinoid[\\\"flashes\\\"].arrays(namedecode=\\\"utf-8\\\")\\n    file_dict[sample][\\\"showers\\\"] = file[\\\"shrreco3d/_rcshr_tree\\\"].arrays(\\n        namedecode=\\\"utf-8\\\"\\n    )\\n    file_dict[sample][\\\"metadata\\\"] = file_neutrinoid[\\\"metadata\\\"].arrays(entrystop=1,namedecode=\\\"utf-8\\\", flatten=True)\\n    if first:\\n        print(\\\"\\\\n--- Event Tree ---\\\")\\n        print(file_dict[sample][\\\"events\\\"].keys())\\n        print(\\\"\\\\n--- Slice Tree ---\\\")\\n        print(file_dict[sample][\\\"slices\\\"].keys())\\n        print(\\\"\\\\n--- Flash Tree ---\\\")\\n        print(file_dict[sample][\\\"flashes\\\"].keys())\\n        print(\\\"\\\\n--- Shower Tree ---\\\")\\n        print(file_dict[sample][\\\"showers\\\"].keys())\\n        print(\\\"\\\\n\\\\n\\\")\\n        first = False\";\n",
       "                var nbb_cells = Jupyter.notebook.get_cells();\n",
       "                for (var i = 0; i < nbb_cells.length; ++i) {\n",
       "                    if (nbb_cells[i].input_prompt_number == nbb_cell_id) {\n",
       "                        nbb_cells[i].set_text(nbb_formatted_code);\n",
       "                        break;\n",
       "                    }\n",
       "                }\n",
       "            }, 500);\n",
       "            "
      ],
      "text/plain": [
       "<IPython.core.display.Javascript object>"
      ]
     },
     "metadata": {},
     "output_type": "display_data"
    }
   ],
   "source": [
    "%%time\n",
    "file_dict = {}\n",
    "first = True\n",
    "\n",
    "for sample in data_samples:\n",
    "    file = uproot.open(\"input/Jan2020/run{}/{}_run{}.root\".format(run, sample, run))\n",
    "    file_neutrinoid = file[\"pandora\"]\n",
    "    file_dict[sample] = {}\n",
    "\n",
    "    file_dict[sample][\"num_events\"] = file_neutrinoid[\"events\"].numentries\n",
    "    print(\n",
    "        sample,\n",
    "        \"num_events:\",\n",
    "        file_dict[sample][\"num_events\"]\n",
    "    )\n",
    "    file_dict[sample][\"events\"] = file_neutrinoid[\"events\"].arrays(namedecode=\"utf-8\")\n",
    "    file_dict[sample][\"slices\"] = file_neutrinoid[\"slices\"].arrays(namedecode=\"utf-8\")\n",
    "    file_dict[sample][\"flashes\"] = file_neutrinoid[\"flashes\"].arrays(namedecode=\"utf-8\")\n",
    "    file_dict[sample][\"showers\"] = file[\"shrreco3d/_rcshr_tree\"].arrays(\n",
    "        namedecode=\"utf-8\"\n",
    "    )\n",
    "    file_dict[sample][\"metadata\"] = file_neutrinoid[\"metadata\"].arrays(entrystop=1,namedecode=\"utf-8\", flatten=True)\n",
    "    if first:\n",
    "        print(\"\\n--- Event Tree ---\")\n",
    "        print(file_dict[sample][\"events\"].keys())\n",
    "        print(\"\\n--- Slice Tree ---\")\n",
    "        print(file_dict[sample][\"slices\"].keys())\n",
    "        print(\"\\n--- Flash Tree ---\")\n",
    "        print(file_dict[sample][\"flashes\"].keys())\n",
    "        print(\"\\n--- Shower Tree ---\")\n",
    "        print(file_dict[sample][\"showers\"].keys())\n",
    "        print(\"\\n\\n\")\n",
    "        first = False"
   ]
  },
  {
   "cell_type": "code",
   "execution_count": 18,
   "metadata": {},
   "outputs": [
    {
     "data": {
      "application/javascript": [
       "\n",
       "            setTimeout(function() {\n",
       "                var nbb_cell_id = 18;\n",
       "                var nbb_formatted_code = \"# Add the POT counting fields for samples:\\nfile_dict[\\\"on\\\"][\\\"pot\\\"] = pot[run - 1]\\nfile_dict[\\\"on\\\"][\\\"en1dcnt\\\"] = en1dcnt[run - 1]\\nfile_dict[\\\"off\\\"][\\\"ext\\\"] = ext[run - 1]\";\n",
       "                var nbb_cells = Jupyter.notebook.get_cells();\n",
       "                for (var i = 0; i < nbb_cells.length; ++i) {\n",
       "                    if (nbb_cells[i].input_prompt_number == nbb_cell_id) {\n",
       "                        nbb_cells[i].set_text(nbb_formatted_code);\n",
       "                        break;\n",
       "                    }\n",
       "                }\n",
       "            }, 500);\n",
       "            "
      ],
      "text/plain": [
       "<IPython.core.display.Javascript object>"
      ]
     },
     "metadata": {},
     "output_type": "display_data"
    }
   ],
   "source": [
    "# Add the POT counting fields for samples:\n",
    "file_dict[\"on\"][\"pot\"] = pot[run - 1]\n",
    "file_dict[\"on\"][\"en1dcnt\"] = en1dcnt[run - 1]\n",
    "file_dict[\"off\"][\"ext\"] = ext[run - 1]"
   ]
  },
  {
   "cell_type": "code",
   "execution_count": 19,
   "metadata": {},
   "outputs": [
    {
     "data": {
      "application/javascript": [
       "\n",
       "            setTimeout(function() {\n",
       "                var nbb_cell_id = 19;\n",
       "                var nbb_formatted_code = \"out_file = open(path + \\\"data_run{}.pckl\\\".format(run), \\\"wb\\\")\\npickle.dump(file_dict, out_file)\\nout_file.close()\";\n",
       "                var nbb_cells = Jupyter.notebook.get_cells();\n",
       "                for (var i = 0; i < nbb_cells.length; ++i) {\n",
       "                    if (nbb_cells[i].input_prompt_number == nbb_cell_id) {\n",
       "                        nbb_cells[i].set_text(nbb_formatted_code);\n",
       "                        break;\n",
       "                    }\n",
       "                }\n",
       "            }, 500);\n",
       "            "
      ],
      "text/plain": [
       "<IPython.core.display.Javascript object>"
      ]
     },
     "metadata": {},
     "output_type": "display_data"
    }
   ],
   "source": [
    "out_file = open(path + \"data_run{}.pckl\".format(run), \"wb\")\n",
    "pickle.dump(file_dict, out_file)\n",
    "out_file.close()"
   ]
  },
  {
   "cell_type": "markdown",
   "metadata": {},
   "source": [
    "### Done"
   ]
  }
 ],
 "metadata": {
  "kernelspec": {
   "display_name": "uproot env",
   "language": "python",
   "name": "uproot"
  },
  "language_info": {
   "codemirror_mode": {
    "name": "ipython",
    "version": 3
   },
   "file_extension": ".py",
   "mimetype": "text/x-python",
   "name": "python",
   "nbconvert_exporter": "python",
   "pygments_lexer": "ipython3",
   "version": "3.7.4"
  }
 },
 "nbformat": 4,
 "nbformat_minor": 2
}
